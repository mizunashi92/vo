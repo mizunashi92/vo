{
 "cells": [
  {
   "cell_type": "code",
   "execution_count": 17,
   "metadata": {
    "collapsed": true
   },
   "outputs": [],
   "source": [
    "import io\n",
    "import requests\n",
    "import webbrowser\n",
    "import random\n",
    "import time\n",
    "import os\n",
    "browserExe = \"chrome.exe\"\n",
    "import mysql.connector\n",
    "\n",
    "mydb = mysql.connector.connect(\n",
    "  host=\"35.240.178.224\",\n",
    "  user=\"mizunashi\",\n",
    "  passwd=\"almukayo\",\n",
    "  database=\"default\"  \n",
    ")\n",
    "veronica = mydb.cursor()\n"
   ]
  },
  {
   "cell_type": "code",
   "execution_count": null,
   "metadata": {},
   "outputs": [
    {
     "name": "stdout",
     "output_type": "stream",
     "text": [
      "Currently playing It's time for laugh loudly! - FUNNY CAT videos \n",
      "with estimated time of 4.1499999999999995 minutes\n"
     ]
    }
   ],
   "source": [
    "while True:\n",
    "    b = random.randint(0, 999)\n",
    "    c = \"Select * from youtube where ID = 'ROW\"+str(b)+\"'\"\n",
    "    veronica.execute(c)\n",
    "    karen = veronica.fetchall()\n",
    "    print(\"Currently playing\",karen[0][0],\"\\nEstimated time of\",int(karen[0][1])/60+0.1, \"minutes\")\n",
    "    webbrowser.open(karen[0][2])\n",
    "    time.sleep(int(karen[0][1]) + random.randint(0, int(int(karen[0][1])/20)))\n",
    "    os.system(\"taskkill /f /im \"+browserExe)\n",
    "    time.sleep(random.randint(0,25))    "
   ]
  },
  {
   "cell_type": "code",
   "execution_count": null,
   "metadata": {
    "collapsed": true
   },
   "outputs": [],
   "source": []
  }
 ],
 "metadata": {
  "kernelspec": {
   "display_name": "Python 3",
   "language": "python",
   "name": "python3"
  },
  "language_info": {
   "codemirror_mode": {
    "name": "ipython",
    "version": 3
   },
   "file_extension": ".py",
   "mimetype": "text/x-python",
   "name": "python",
   "nbconvert_exporter": "python",
   "pygments_lexer": "ipython3",
   "version": "3.6.1"
  }
 },
 "nbformat": 4,
 "nbformat_minor": 2
}
